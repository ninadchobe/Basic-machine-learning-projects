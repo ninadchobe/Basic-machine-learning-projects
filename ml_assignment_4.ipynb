{
  "nbformat": 4,
  "nbformat_minor": 0,
  "metadata": {
    "colab": {
      "provenance": []
    },
    "kernelspec": {
      "name": "python3",
      "display_name": "Python 3"
    },
    "language_info": {
      "name": "python"
    }
  },
  "cells": [
    {
      "cell_type": "markdown",
      "source": [
        "importing libraries and data"
      ],
      "metadata": {
        "id": "6cy4U6kqqSFM"
      }
    },
    {
      "cell_type": "code",
      "execution_count": 1,
      "metadata": {
        "id": "ZxFFa7aZrV0I"
      },
      "outputs": [],
      "source": [
        "import numpy as np\n",
        "import pandas as pd\n",
        "import matplotlib.pyplot as plt\n",
        "import seaborn as sns"
      ]
    },
    {
      "cell_type": "code",
      "source": [
        "data = pd.read_csv(\"creditcardfraud.csv\")\n",
        "data.head()"
      ],
      "metadata": {
        "colab": {
          "base_uri": "https://localhost:8080/",
          "height": 255
        },
        "id": "npXnLcR0R8Pe",
        "outputId": "5f09d235-877d-4dc1-c844-8fce12febc4b"
      },
      "execution_count": 2,
      "outputs": [
        {
          "output_type": "execute_result",
          "data": {
            "text/plain": [
              "     Time        V1        V2        V3        V4        V5        V6  \\\n",
              "0   82450  1.314539  0.590643 -0.666593  0.716564  0.301978 -1.125467   \n",
              "1   50554 -0.798672  1.185093  0.904547  0.694584  0.219041 -0.319295   \n",
              "2   55125 -0.391128 -0.245540  1.122074 -1.308725 -0.639891  0.008678   \n",
              "3  116572 -0.060302  1.065093 -0.987421 -0.029567  0.176376 -1.348539   \n",
              "4   90434  1.848433  0.373364  0.269272  3.866438  0.088062  0.970447   \n",
              "\n",
              "         V7        V8        V9  ...       V21       V22       V23       V24  \\\n",
              "0  0.388881 -0.288390 -0.132137  ... -0.170307 -0.429655 -0.141341 -0.200195   \n",
              "1  0.495236  0.139269 -0.760214  ...  0.202287  0.578699 -0.092245  0.013723   \n",
              "2 -0.701304 -0.027315 -2.628854  ... -0.133485  0.117403 -0.191748 -0.488642   \n",
              "3  0.775644  0.134843 -0.149734  ...  0.355576  0.907570 -0.018454 -0.126269   \n",
              "4 -0.721945  0.235983  0.683491  ...  0.103563  0.620954  0.197077  0.692392   \n",
              "\n",
              "        V25       V26       V27       V28  Amount  Class  \n",
              "0  0.639491  0.399476 -0.034321  0.031692    0.76      0  \n",
              "1 -0.246466 -0.380057 -0.396030 -0.112901    4.18      0  \n",
              "2 -0.309774  0.008100  0.163716  0.239582   15.00      0  \n",
              "3 -0.339923 -0.150285 -0.023634  0.042330   57.00      0  \n",
              "4 -0.206530 -0.021328 -0.019823 -0.042682    0.00      0  \n",
              "\n",
              "[5 rows x 31 columns]"
            ],
            "text/html": [
              "\n",
              "  <div id=\"df-8516e59f-dbe7-4aa2-a9f5-05d892c48007\" class=\"colab-df-container\">\n",
              "    <div>\n",
              "<style scoped>\n",
              "    .dataframe tbody tr th:only-of-type {\n",
              "        vertical-align: middle;\n",
              "    }\n",
              "\n",
              "    .dataframe tbody tr th {\n",
              "        vertical-align: top;\n",
              "    }\n",
              "\n",
              "    .dataframe thead th {\n",
              "        text-align: right;\n",
              "    }\n",
              "</style>\n",
              "<table border=\"1\" class=\"dataframe\">\n",
              "  <thead>\n",
              "    <tr style=\"text-align: right;\">\n",
              "      <th></th>\n",
              "      <th>Time</th>\n",
              "      <th>V1</th>\n",
              "      <th>V2</th>\n",
              "      <th>V3</th>\n",
              "      <th>V4</th>\n",
              "      <th>V5</th>\n",
              "      <th>V6</th>\n",
              "      <th>V7</th>\n",
              "      <th>V8</th>\n",
              "      <th>V9</th>\n",
              "      <th>...</th>\n",
              "      <th>V21</th>\n",
              "      <th>V22</th>\n",
              "      <th>V23</th>\n",
              "      <th>V24</th>\n",
              "      <th>V25</th>\n",
              "      <th>V26</th>\n",
              "      <th>V27</th>\n",
              "      <th>V28</th>\n",
              "      <th>Amount</th>\n",
              "      <th>Class</th>\n",
              "    </tr>\n",
              "  </thead>\n",
              "  <tbody>\n",
              "    <tr>\n",
              "      <th>0</th>\n",
              "      <td>82450</td>\n",
              "      <td>1.314539</td>\n",
              "      <td>0.590643</td>\n",
              "      <td>-0.666593</td>\n",
              "      <td>0.716564</td>\n",
              "      <td>0.301978</td>\n",
              "      <td>-1.125467</td>\n",
              "      <td>0.388881</td>\n",
              "      <td>-0.288390</td>\n",
              "      <td>-0.132137</td>\n",
              "      <td>...</td>\n",
              "      <td>-0.170307</td>\n",
              "      <td>-0.429655</td>\n",
              "      <td>-0.141341</td>\n",
              "      <td>-0.200195</td>\n",
              "      <td>0.639491</td>\n",
              "      <td>0.399476</td>\n",
              "      <td>-0.034321</td>\n",
              "      <td>0.031692</td>\n",
              "      <td>0.76</td>\n",
              "      <td>0</td>\n",
              "    </tr>\n",
              "    <tr>\n",
              "      <th>1</th>\n",
              "      <td>50554</td>\n",
              "      <td>-0.798672</td>\n",
              "      <td>1.185093</td>\n",
              "      <td>0.904547</td>\n",
              "      <td>0.694584</td>\n",
              "      <td>0.219041</td>\n",
              "      <td>-0.319295</td>\n",
              "      <td>0.495236</td>\n",
              "      <td>0.139269</td>\n",
              "      <td>-0.760214</td>\n",
              "      <td>...</td>\n",
              "      <td>0.202287</td>\n",
              "      <td>0.578699</td>\n",
              "      <td>-0.092245</td>\n",
              "      <td>0.013723</td>\n",
              "      <td>-0.246466</td>\n",
              "      <td>-0.380057</td>\n",
              "      <td>-0.396030</td>\n",
              "      <td>-0.112901</td>\n",
              "      <td>4.18</td>\n",
              "      <td>0</td>\n",
              "    </tr>\n",
              "    <tr>\n",
              "      <th>2</th>\n",
              "      <td>55125</td>\n",
              "      <td>-0.391128</td>\n",
              "      <td>-0.245540</td>\n",
              "      <td>1.122074</td>\n",
              "      <td>-1.308725</td>\n",
              "      <td>-0.639891</td>\n",
              "      <td>0.008678</td>\n",
              "      <td>-0.701304</td>\n",
              "      <td>-0.027315</td>\n",
              "      <td>-2.628854</td>\n",
              "      <td>...</td>\n",
              "      <td>-0.133485</td>\n",
              "      <td>0.117403</td>\n",
              "      <td>-0.191748</td>\n",
              "      <td>-0.488642</td>\n",
              "      <td>-0.309774</td>\n",
              "      <td>0.008100</td>\n",
              "      <td>0.163716</td>\n",
              "      <td>0.239582</td>\n",
              "      <td>15.00</td>\n",
              "      <td>0</td>\n",
              "    </tr>\n",
              "    <tr>\n",
              "      <th>3</th>\n",
              "      <td>116572</td>\n",
              "      <td>-0.060302</td>\n",
              "      <td>1.065093</td>\n",
              "      <td>-0.987421</td>\n",
              "      <td>-0.029567</td>\n",
              "      <td>0.176376</td>\n",
              "      <td>-1.348539</td>\n",
              "      <td>0.775644</td>\n",
              "      <td>0.134843</td>\n",
              "      <td>-0.149734</td>\n",
              "      <td>...</td>\n",
              "      <td>0.355576</td>\n",
              "      <td>0.907570</td>\n",
              "      <td>-0.018454</td>\n",
              "      <td>-0.126269</td>\n",
              "      <td>-0.339923</td>\n",
              "      <td>-0.150285</td>\n",
              "      <td>-0.023634</td>\n",
              "      <td>0.042330</td>\n",
              "      <td>57.00</td>\n",
              "      <td>0</td>\n",
              "    </tr>\n",
              "    <tr>\n",
              "      <th>4</th>\n",
              "      <td>90434</td>\n",
              "      <td>1.848433</td>\n",
              "      <td>0.373364</td>\n",
              "      <td>0.269272</td>\n",
              "      <td>3.866438</td>\n",
              "      <td>0.088062</td>\n",
              "      <td>0.970447</td>\n",
              "      <td>-0.721945</td>\n",
              "      <td>0.235983</td>\n",
              "      <td>0.683491</td>\n",
              "      <td>...</td>\n",
              "      <td>0.103563</td>\n",
              "      <td>0.620954</td>\n",
              "      <td>0.197077</td>\n",
              "      <td>0.692392</td>\n",
              "      <td>-0.206530</td>\n",
              "      <td>-0.021328</td>\n",
              "      <td>-0.019823</td>\n",
              "      <td>-0.042682</td>\n",
              "      <td>0.00</td>\n",
              "      <td>0</td>\n",
              "    </tr>\n",
              "  </tbody>\n",
              "</table>\n",
              "<p>5 rows × 31 columns</p>\n",
              "</div>\n",
              "    <div class=\"colab-df-buttons\">\n",
              "\n",
              "  <div class=\"colab-df-container\">\n",
              "    <button class=\"colab-df-convert\" onclick=\"convertToInteractive('df-8516e59f-dbe7-4aa2-a9f5-05d892c48007')\"\n",
              "            title=\"Convert this dataframe to an interactive table.\"\n",
              "            style=\"display:none;\">\n",
              "\n",
              "  <svg xmlns=\"http://www.w3.org/2000/svg\" height=\"24px\" viewBox=\"0 -960 960 960\">\n",
              "    <path d=\"M120-120v-720h720v720H120Zm60-500h600v-160H180v160Zm220 220h160v-160H400v160Zm0 220h160v-160H400v160ZM180-400h160v-160H180v160Zm440 0h160v-160H620v160ZM180-180h160v-160H180v160Zm440 0h160v-160H620v160Z\"/>\n",
              "  </svg>\n",
              "    </button>\n",
              "\n",
              "  <style>\n",
              "    .colab-df-container {\n",
              "      display:flex;\n",
              "      gap: 12px;\n",
              "    }\n",
              "\n",
              "    .colab-df-convert {\n",
              "      background-color: #E8F0FE;\n",
              "      border: none;\n",
              "      border-radius: 50%;\n",
              "      cursor: pointer;\n",
              "      display: none;\n",
              "      fill: #1967D2;\n",
              "      height: 32px;\n",
              "      padding: 0 0 0 0;\n",
              "      width: 32px;\n",
              "    }\n",
              "\n",
              "    .colab-df-convert:hover {\n",
              "      background-color: #E2EBFA;\n",
              "      box-shadow: 0px 1px 2px rgba(60, 64, 67, 0.3), 0px 1px 3px 1px rgba(60, 64, 67, 0.15);\n",
              "      fill: #174EA6;\n",
              "    }\n",
              "\n",
              "    .colab-df-buttons div {\n",
              "      margin-bottom: 4px;\n",
              "    }\n",
              "\n",
              "    [theme=dark] .colab-df-convert {\n",
              "      background-color: #3B4455;\n",
              "      fill: #D2E3FC;\n",
              "    }\n",
              "\n",
              "    [theme=dark] .colab-df-convert:hover {\n",
              "      background-color: #434B5C;\n",
              "      box-shadow: 0px 1px 3px 1px rgba(0, 0, 0, 0.15);\n",
              "      filter: drop-shadow(0px 1px 2px rgba(0, 0, 0, 0.3));\n",
              "      fill: #FFFFFF;\n",
              "    }\n",
              "  </style>\n",
              "\n",
              "    <script>\n",
              "      const buttonEl =\n",
              "        document.querySelector('#df-8516e59f-dbe7-4aa2-a9f5-05d892c48007 button.colab-df-convert');\n",
              "      buttonEl.style.display =\n",
              "        google.colab.kernel.accessAllowed ? 'block' : 'none';\n",
              "\n",
              "      async function convertToInteractive(key) {\n",
              "        const element = document.querySelector('#df-8516e59f-dbe7-4aa2-a9f5-05d892c48007');\n",
              "        const dataTable =\n",
              "          await google.colab.kernel.invokeFunction('convertToInteractive',\n",
              "                                                    [key], {});\n",
              "        if (!dataTable) return;\n",
              "\n",
              "        const docLinkHtml = 'Like what you see? Visit the ' +\n",
              "          '<a target=\"_blank\" href=https://colab.research.google.com/notebooks/data_table.ipynb>data table notebook</a>'\n",
              "          + ' to learn more about interactive tables.';\n",
              "        element.innerHTML = '';\n",
              "        dataTable['output_type'] = 'display_data';\n",
              "        await google.colab.output.renderOutput(dataTable, element);\n",
              "        const docLink = document.createElement('div');\n",
              "        docLink.innerHTML = docLinkHtml;\n",
              "        element.appendChild(docLink);\n",
              "      }\n",
              "    </script>\n",
              "  </div>\n",
              "\n",
              "\n",
              "<div id=\"df-92be889e-d2ab-43c1-906f-6f0a3e284291\">\n",
              "  <button class=\"colab-df-quickchart\" onclick=\"quickchart('df-92be889e-d2ab-43c1-906f-6f0a3e284291')\"\n",
              "            title=\"Suggest charts.\"\n",
              "            style=\"display:none;\">\n",
              "\n",
              "<svg xmlns=\"http://www.w3.org/2000/svg\" height=\"24px\"viewBox=\"0 0 24 24\"\n",
              "     width=\"24px\">\n",
              "    <g>\n",
              "        <path d=\"M19 3H5c-1.1 0-2 .9-2 2v14c0 1.1.9 2 2 2h14c1.1 0 2-.9 2-2V5c0-1.1-.9-2-2-2zM9 17H7v-7h2v7zm4 0h-2V7h2v10zm4 0h-2v-4h2v4z\"/>\n",
              "    </g>\n",
              "</svg>\n",
              "  </button>\n",
              "\n",
              "<style>\n",
              "  .colab-df-quickchart {\n",
              "      --bg-color: #E8F0FE;\n",
              "      --fill-color: #1967D2;\n",
              "      --hover-bg-color: #E2EBFA;\n",
              "      --hover-fill-color: #174EA6;\n",
              "      --disabled-fill-color: #AAA;\n",
              "      --disabled-bg-color: #DDD;\n",
              "  }\n",
              "\n",
              "  [theme=dark] .colab-df-quickchart {\n",
              "      --bg-color: #3B4455;\n",
              "      --fill-color: #D2E3FC;\n",
              "      --hover-bg-color: #434B5C;\n",
              "      --hover-fill-color: #FFFFFF;\n",
              "      --disabled-bg-color: #3B4455;\n",
              "      --disabled-fill-color: #666;\n",
              "  }\n",
              "\n",
              "  .colab-df-quickchart {\n",
              "    background-color: var(--bg-color);\n",
              "    border: none;\n",
              "    border-radius: 50%;\n",
              "    cursor: pointer;\n",
              "    display: none;\n",
              "    fill: var(--fill-color);\n",
              "    height: 32px;\n",
              "    padding: 0;\n",
              "    width: 32px;\n",
              "  }\n",
              "\n",
              "  .colab-df-quickchart:hover {\n",
              "    background-color: var(--hover-bg-color);\n",
              "    box-shadow: 0 1px 2px rgba(60, 64, 67, 0.3), 0 1px 3px 1px rgba(60, 64, 67, 0.15);\n",
              "    fill: var(--button-hover-fill-color);\n",
              "  }\n",
              "\n",
              "  .colab-df-quickchart-complete:disabled,\n",
              "  .colab-df-quickchart-complete:disabled:hover {\n",
              "    background-color: var(--disabled-bg-color);\n",
              "    fill: var(--disabled-fill-color);\n",
              "    box-shadow: none;\n",
              "  }\n",
              "\n",
              "  .colab-df-spinner {\n",
              "    border: 2px solid var(--fill-color);\n",
              "    border-color: transparent;\n",
              "    border-bottom-color: var(--fill-color);\n",
              "    animation:\n",
              "      spin 1s steps(1) infinite;\n",
              "  }\n",
              "\n",
              "  @keyframes spin {\n",
              "    0% {\n",
              "      border-color: transparent;\n",
              "      border-bottom-color: var(--fill-color);\n",
              "      border-left-color: var(--fill-color);\n",
              "    }\n",
              "    20% {\n",
              "      border-color: transparent;\n",
              "      border-left-color: var(--fill-color);\n",
              "      border-top-color: var(--fill-color);\n",
              "    }\n",
              "    30% {\n",
              "      border-color: transparent;\n",
              "      border-left-color: var(--fill-color);\n",
              "      border-top-color: var(--fill-color);\n",
              "      border-right-color: var(--fill-color);\n",
              "    }\n",
              "    40% {\n",
              "      border-color: transparent;\n",
              "      border-right-color: var(--fill-color);\n",
              "      border-top-color: var(--fill-color);\n",
              "    }\n",
              "    60% {\n",
              "      border-color: transparent;\n",
              "      border-right-color: var(--fill-color);\n",
              "    }\n",
              "    80% {\n",
              "      border-color: transparent;\n",
              "      border-right-color: var(--fill-color);\n",
              "      border-bottom-color: var(--fill-color);\n",
              "    }\n",
              "    90% {\n",
              "      border-color: transparent;\n",
              "      border-bottom-color: var(--fill-color);\n",
              "    }\n",
              "  }\n",
              "</style>\n",
              "\n",
              "  <script>\n",
              "    async function quickchart(key) {\n",
              "      const quickchartButtonEl =\n",
              "        document.querySelector('#' + key + ' button');\n",
              "      quickchartButtonEl.disabled = true;  // To prevent multiple clicks.\n",
              "      quickchartButtonEl.classList.add('colab-df-spinner');\n",
              "      try {\n",
              "        const charts = await google.colab.kernel.invokeFunction(\n",
              "            'suggestCharts', [key], {});\n",
              "      } catch (error) {\n",
              "        console.error('Error during call to suggestCharts:', error);\n",
              "      }\n",
              "      quickchartButtonEl.classList.remove('colab-df-spinner');\n",
              "      quickchartButtonEl.classList.add('colab-df-quickchart-complete');\n",
              "    }\n",
              "    (() => {\n",
              "      let quickchartButtonEl =\n",
              "        document.querySelector('#df-92be889e-d2ab-43c1-906f-6f0a3e284291 button');\n",
              "      quickchartButtonEl.style.display =\n",
              "        google.colab.kernel.accessAllowed ? 'block' : 'none';\n",
              "    })();\n",
              "  </script>\n",
              "</div>\n",
              "    </div>\n",
              "  </div>\n"
            ]
          },
          "metadata": {},
          "execution_count": 2
        }
      ]
    },
    {
      "cell_type": "markdown",
      "source": [
        "dropping Time columns from the data"
      ],
      "metadata": {
        "id": "2gHCe_5uqawD"
      }
    },
    {
      "cell_type": "code",
      "source": [
        "data.drop('Time', axis=1, inplace=True)"
      ],
      "metadata": {
        "id": "0n2LCKkGShJG"
      },
      "execution_count": 3,
      "outputs": []
    },
    {
      "cell_type": "markdown",
      "source": [
        "Using StandardScaler to scale the \"Amount\" column"
      ],
      "metadata": {
        "id": "F7Gv14-Bqop7"
      }
    },
    {
      "cell_type": "code",
      "source": [
        "from sklearn.preprocessing import StandardScaler\n",
        "scaler = StandardScaler()\n",
        "data[['Amount']] = scaler.fit_transform(data[['Amount']])"
      ],
      "metadata": {
        "id": "44sAfgbTTgYV"
      },
      "execution_count": 4,
      "outputs": []
    },
    {
      "cell_type": "markdown",
      "source": [
        "Dividing the dataset into train and test"
      ],
      "metadata": {
        "id": "3aXCRFLYqqKq"
      }
    },
    {
      "cell_type": "code",
      "source": [
        "from sklearn.model_selection import train_test_split\n",
        "y = data['Class']\n",
        "X = data.drop('Class', axis = 1)\n",
        "X_train, X_test, y_train, y_test = train_test_split(X, y, test_size=0.2, random_state=42)"
      ],
      "metadata": {
        "id": "0jRhoiGUnmx9"
      },
      "execution_count": 5,
      "outputs": []
    },
    {
      "cell_type": "markdown",
      "source": [
        "Logistic regression using default hyperparamenters"
      ],
      "metadata": {
        "id": "NNNX3G7iqvRy"
      }
    },
    {
      "cell_type": "code",
      "source": [
        "from sklearn.linear_model import LogisticRegression\n",
        "lr = LogisticRegression()\n",
        "lr.fit(X_train, y_train)"
      ],
      "metadata": {
        "colab": {
          "base_uri": "https://localhost:8080/",
          "height": 74
        },
        "id": "iYCV2StaoMCj",
        "outputId": "b53f28c8-3db4-46d4-8f3d-cbf87d93bf53"
      },
      "execution_count": 6,
      "outputs": [
        {
          "output_type": "execute_result",
          "data": {
            "text/plain": [
              "LogisticRegression()"
            ],
            "text/html": [
              "<style>#sk-container-id-1 {color: black;background-color: white;}#sk-container-id-1 pre{padding: 0;}#sk-container-id-1 div.sk-toggleable {background-color: white;}#sk-container-id-1 label.sk-toggleable__label {cursor: pointer;display: block;width: 100%;margin-bottom: 0;padding: 0.3em;box-sizing: border-box;text-align: center;}#sk-container-id-1 label.sk-toggleable__label-arrow:before {content: \"▸\";float: left;margin-right: 0.25em;color: #696969;}#sk-container-id-1 label.sk-toggleable__label-arrow:hover:before {color: black;}#sk-container-id-1 div.sk-estimator:hover label.sk-toggleable__label-arrow:before {color: black;}#sk-container-id-1 div.sk-toggleable__content {max-height: 0;max-width: 0;overflow: hidden;text-align: left;background-color: #f0f8ff;}#sk-container-id-1 div.sk-toggleable__content pre {margin: 0.2em;color: black;border-radius: 0.25em;background-color: #f0f8ff;}#sk-container-id-1 input.sk-toggleable__control:checked~div.sk-toggleable__content {max-height: 200px;max-width: 100%;overflow: auto;}#sk-container-id-1 input.sk-toggleable__control:checked~label.sk-toggleable__label-arrow:before {content: \"▾\";}#sk-container-id-1 div.sk-estimator input.sk-toggleable__control:checked~label.sk-toggleable__label {background-color: #d4ebff;}#sk-container-id-1 div.sk-label input.sk-toggleable__control:checked~label.sk-toggleable__label {background-color: #d4ebff;}#sk-container-id-1 input.sk-hidden--visually {border: 0;clip: rect(1px 1px 1px 1px);clip: rect(1px, 1px, 1px, 1px);height: 1px;margin: -1px;overflow: hidden;padding: 0;position: absolute;width: 1px;}#sk-container-id-1 div.sk-estimator {font-family: monospace;background-color: #f0f8ff;border: 1px dotted black;border-radius: 0.25em;box-sizing: border-box;margin-bottom: 0.5em;}#sk-container-id-1 div.sk-estimator:hover {background-color: #d4ebff;}#sk-container-id-1 div.sk-parallel-item::after {content: \"\";width: 100%;border-bottom: 1px solid gray;flex-grow: 1;}#sk-container-id-1 div.sk-label:hover label.sk-toggleable__label {background-color: #d4ebff;}#sk-container-id-1 div.sk-serial::before {content: \"\";position: absolute;border-left: 1px solid gray;box-sizing: border-box;top: 0;bottom: 0;left: 50%;z-index: 0;}#sk-container-id-1 div.sk-serial {display: flex;flex-direction: column;align-items: center;background-color: white;padding-right: 0.2em;padding-left: 0.2em;position: relative;}#sk-container-id-1 div.sk-item {position: relative;z-index: 1;}#sk-container-id-1 div.sk-parallel {display: flex;align-items: stretch;justify-content: center;background-color: white;position: relative;}#sk-container-id-1 div.sk-item::before, #sk-container-id-1 div.sk-parallel-item::before {content: \"\";position: absolute;border-left: 1px solid gray;box-sizing: border-box;top: 0;bottom: 0;left: 50%;z-index: -1;}#sk-container-id-1 div.sk-parallel-item {display: flex;flex-direction: column;z-index: 1;position: relative;background-color: white;}#sk-container-id-1 div.sk-parallel-item:first-child::after {align-self: flex-end;width: 50%;}#sk-container-id-1 div.sk-parallel-item:last-child::after {align-self: flex-start;width: 50%;}#sk-container-id-1 div.sk-parallel-item:only-child::after {width: 0;}#sk-container-id-1 div.sk-dashed-wrapped {border: 1px dashed gray;margin: 0 0.4em 0.5em 0.4em;box-sizing: border-box;padding-bottom: 0.4em;background-color: white;}#sk-container-id-1 div.sk-label label {font-family: monospace;font-weight: bold;display: inline-block;line-height: 1.2em;}#sk-container-id-1 div.sk-label-container {text-align: center;}#sk-container-id-1 div.sk-container {/* jupyter's `normalize.less` sets `[hidden] { display: none; }` but bootstrap.min.css set `[hidden] { display: none !important; }` so we also need the `!important` here to be able to override the default hidden behavior on the sphinx rendered scikit-learn.org. See: https://github.com/scikit-learn/scikit-learn/issues/21755 */display: inline-block !important;position: relative;}#sk-container-id-1 div.sk-text-repr-fallback {display: none;}</style><div id=\"sk-container-id-1\" class=\"sk-top-container\"><div class=\"sk-text-repr-fallback\"><pre>LogisticRegression()</pre><b>In a Jupyter environment, please rerun this cell to show the HTML representation or trust the notebook. <br />On GitHub, the HTML representation is unable to render, please try loading this page with nbviewer.org.</b></div><div class=\"sk-container\" hidden><div class=\"sk-item\"><div class=\"sk-estimator sk-toggleable\"><input class=\"sk-toggleable__control sk-hidden--visually\" id=\"sk-estimator-id-1\" type=\"checkbox\" checked><label for=\"sk-estimator-id-1\" class=\"sk-toggleable__label sk-toggleable__label-arrow\">LogisticRegression</label><div class=\"sk-toggleable__content\"><pre>LogisticRegression()</pre></div></div></div></div></div>"
            ]
          },
          "metadata": {},
          "execution_count": 6
        }
      ]
    },
    {
      "cell_type": "code",
      "source": [
        "pred = lr.predict(X_test)"
      ],
      "metadata": {
        "id": "YLXLVU79o_jr"
      },
      "execution_count": 7,
      "outputs": []
    },
    {
      "cell_type": "markdown",
      "source": [
        "Confusion matrix and classification report"
      ],
      "metadata": {
        "id": "0SRCh93Yq5ib"
      }
    },
    {
      "cell_type": "code",
      "source": [
        "from sklearn.metrics import confusion_matrix, classification_report\n",
        "conf_matrix1 = confusion_matrix(y_test, pred)\n",
        "print(\"Confusion Matrix:\")\n",
        "print(conf_matrix1)\n",
        "\n",
        "class_report1 = classification_report(y_test, pred)\n",
        "print(\"\\nClassification Report:\")\n",
        "print(class_report1)"
      ],
      "metadata": {
        "colab": {
          "base_uri": "https://localhost:8080/"
        },
        "id": "RQRjia0ipEY7",
        "outputId": "fbb98e2b-ab98-445d-eee7-a0e893dcb340"
      },
      "execution_count": 8,
      "outputs": [
        {
          "output_type": "stream",
          "name": "stdout",
          "text": [
            "Confusion Matrix:\n",
            "[[59  3]\n",
            " [ 4 54]]\n",
            "\n",
            "Classification Report:\n",
            "              precision    recall  f1-score   support\n",
            "\n",
            "           0       0.94      0.95      0.94        62\n",
            "           1       0.95      0.93      0.94        58\n",
            "\n",
            "    accuracy                           0.94       120\n",
            "   macro avg       0.94      0.94      0.94       120\n",
            "weighted avg       0.94      0.94      0.94       120\n",
            "\n"
          ]
        }
      ]
    },
    {
      "cell_type": "markdown",
      "source": [
        "SVM using default hyperparamenters"
      ],
      "metadata": {
        "id": "t93iPJOhq2g8"
      }
    },
    {
      "cell_type": "code",
      "source": [
        "from sklearn.svm import SVC\n",
        "\n",
        "svm_model = SVC()\n",
        "svm_model.fit(X_train, y_train)"
      ],
      "metadata": {
        "colab": {
          "base_uri": "https://localhost:8080/",
          "height": 74
        },
        "id": "mPZMiSlwpeZ0",
        "outputId": "d611b092-9461-467e-d253-fc586428c648"
      },
      "execution_count": 9,
      "outputs": [
        {
          "output_type": "execute_result",
          "data": {
            "text/plain": [
              "SVC()"
            ],
            "text/html": [
              "<style>#sk-container-id-2 {color: black;background-color: white;}#sk-container-id-2 pre{padding: 0;}#sk-container-id-2 div.sk-toggleable {background-color: white;}#sk-container-id-2 label.sk-toggleable__label {cursor: pointer;display: block;width: 100%;margin-bottom: 0;padding: 0.3em;box-sizing: border-box;text-align: center;}#sk-container-id-2 label.sk-toggleable__label-arrow:before {content: \"▸\";float: left;margin-right: 0.25em;color: #696969;}#sk-container-id-2 label.sk-toggleable__label-arrow:hover:before {color: black;}#sk-container-id-2 div.sk-estimator:hover label.sk-toggleable__label-arrow:before {color: black;}#sk-container-id-2 div.sk-toggleable__content {max-height: 0;max-width: 0;overflow: hidden;text-align: left;background-color: #f0f8ff;}#sk-container-id-2 div.sk-toggleable__content pre {margin: 0.2em;color: black;border-radius: 0.25em;background-color: #f0f8ff;}#sk-container-id-2 input.sk-toggleable__control:checked~div.sk-toggleable__content {max-height: 200px;max-width: 100%;overflow: auto;}#sk-container-id-2 input.sk-toggleable__control:checked~label.sk-toggleable__label-arrow:before {content: \"▾\";}#sk-container-id-2 div.sk-estimator input.sk-toggleable__control:checked~label.sk-toggleable__label {background-color: #d4ebff;}#sk-container-id-2 div.sk-label input.sk-toggleable__control:checked~label.sk-toggleable__label {background-color: #d4ebff;}#sk-container-id-2 input.sk-hidden--visually {border: 0;clip: rect(1px 1px 1px 1px);clip: rect(1px, 1px, 1px, 1px);height: 1px;margin: -1px;overflow: hidden;padding: 0;position: absolute;width: 1px;}#sk-container-id-2 div.sk-estimator {font-family: monospace;background-color: #f0f8ff;border: 1px dotted black;border-radius: 0.25em;box-sizing: border-box;margin-bottom: 0.5em;}#sk-container-id-2 div.sk-estimator:hover {background-color: #d4ebff;}#sk-container-id-2 div.sk-parallel-item::after {content: \"\";width: 100%;border-bottom: 1px solid gray;flex-grow: 1;}#sk-container-id-2 div.sk-label:hover label.sk-toggleable__label {background-color: #d4ebff;}#sk-container-id-2 div.sk-serial::before {content: \"\";position: absolute;border-left: 1px solid gray;box-sizing: border-box;top: 0;bottom: 0;left: 50%;z-index: 0;}#sk-container-id-2 div.sk-serial {display: flex;flex-direction: column;align-items: center;background-color: white;padding-right: 0.2em;padding-left: 0.2em;position: relative;}#sk-container-id-2 div.sk-item {position: relative;z-index: 1;}#sk-container-id-2 div.sk-parallel {display: flex;align-items: stretch;justify-content: center;background-color: white;position: relative;}#sk-container-id-2 div.sk-item::before, #sk-container-id-2 div.sk-parallel-item::before {content: \"\";position: absolute;border-left: 1px solid gray;box-sizing: border-box;top: 0;bottom: 0;left: 50%;z-index: -1;}#sk-container-id-2 div.sk-parallel-item {display: flex;flex-direction: column;z-index: 1;position: relative;background-color: white;}#sk-container-id-2 div.sk-parallel-item:first-child::after {align-self: flex-end;width: 50%;}#sk-container-id-2 div.sk-parallel-item:last-child::after {align-self: flex-start;width: 50%;}#sk-container-id-2 div.sk-parallel-item:only-child::after {width: 0;}#sk-container-id-2 div.sk-dashed-wrapped {border: 1px dashed gray;margin: 0 0.4em 0.5em 0.4em;box-sizing: border-box;padding-bottom: 0.4em;background-color: white;}#sk-container-id-2 div.sk-label label {font-family: monospace;font-weight: bold;display: inline-block;line-height: 1.2em;}#sk-container-id-2 div.sk-label-container {text-align: center;}#sk-container-id-2 div.sk-container {/* jupyter's `normalize.less` sets `[hidden] { display: none; }` but bootstrap.min.css set `[hidden] { display: none !important; }` so we also need the `!important` here to be able to override the default hidden behavior on the sphinx rendered scikit-learn.org. See: https://github.com/scikit-learn/scikit-learn/issues/21755 */display: inline-block !important;position: relative;}#sk-container-id-2 div.sk-text-repr-fallback {display: none;}</style><div id=\"sk-container-id-2\" class=\"sk-top-container\"><div class=\"sk-text-repr-fallback\"><pre>SVC()</pre><b>In a Jupyter environment, please rerun this cell to show the HTML representation or trust the notebook. <br />On GitHub, the HTML representation is unable to render, please try loading this page with nbviewer.org.</b></div><div class=\"sk-container\" hidden><div class=\"sk-item\"><div class=\"sk-estimator sk-toggleable\"><input class=\"sk-toggleable__control sk-hidden--visually\" id=\"sk-estimator-id-2\" type=\"checkbox\" checked><label for=\"sk-estimator-id-2\" class=\"sk-toggleable__label sk-toggleable__label-arrow\">SVC</label><div class=\"sk-toggleable__content\"><pre>SVC()</pre></div></div></div></div></div>"
            ]
          },
          "metadata": {},
          "execution_count": 9
        }
      ]
    },
    {
      "cell_type": "code",
      "source": [
        "y_pred_svm = svm_model.predict(X_test)"
      ],
      "metadata": {
        "id": "yDGEly1Lp3hU"
      },
      "execution_count": 10,
      "outputs": []
    },
    {
      "cell_type": "markdown",
      "source": [
        "Confusion matrix and classification report"
      ],
      "metadata": {
        "id": "5on8G5BArDQL"
      }
    },
    {
      "cell_type": "code",
      "source": [
        "conf_matrix_svm1 = confusion_matrix(y_test, y_pred_svm)\n",
        "print(\"SVM Confusion Matrix:\")\n",
        "print(conf_matrix_svm1)\n",
        "\n",
        "class_report_svm1 = classification_report(y_test, y_pred_svm)\n",
        "print(\"\\nSVM Classification Report:\")\n",
        "print(class_report_svm1)"
      ],
      "metadata": {
        "colab": {
          "base_uri": "https://localhost:8080/"
        },
        "id": "i7nVD3QXp8HD",
        "outputId": "392c573c-3d0d-45cd-94c5-4e876ab57ad2"
      },
      "execution_count": 11,
      "outputs": [
        {
          "output_type": "stream",
          "name": "stdout",
          "text": [
            "SVM Confusion Matrix:\n",
            "[[62  0]\n",
            " [ 6 52]]\n",
            "\n",
            "SVM Classification Report:\n",
            "              precision    recall  f1-score   support\n",
            "\n",
            "           0       0.91      1.00      0.95        62\n",
            "           1       1.00      0.90      0.95        58\n",
            "\n",
            "    accuracy                           0.95       120\n",
            "   macro avg       0.96      0.95      0.95       120\n",
            "weighted avg       0.95      0.95      0.95       120\n",
            "\n"
          ]
        }
      ]
    },
    {
      "cell_type": "markdown",
      "source": [
        "Grid Search CV for both models"
      ],
      "metadata": {
        "id": "qv4FWUx2rSry"
      }
    },
    {
      "cell_type": "code",
      "source": [
        "lr_params = {\n",
        "    'C': [0.001, 0.01, 0.1, 1, 10, 100],\n",
        "    'max_iter': [1000, 2000, 3000, 4000, 5000],\n",
        "}\n",
        "\n",
        "svm_params = {\n",
        "    'C': [0.001, 0.01, 0.1, 1, 10, 100],\n",
        "    'kernel': ['linear', 'poly', 'rbf', 'sigmoid']\n",
        "}"
      ],
      "metadata": {
        "id": "OCUTZwdxp-BL"
      },
      "execution_count": 12,
      "outputs": []
    },
    {
      "cell_type": "code",
      "source": [
        "from sklearn.model_selection import GridSearchCV"
      ],
      "metadata": {
        "id": "Csne5E8RryS7"
      },
      "execution_count": 13,
      "outputs": []
    },
    {
      "cell_type": "code",
      "source": [
        "logistic_regression_grid = GridSearchCV(\n",
        "    estimator=LogisticRegression(),\n",
        "    param_grid=lr_params,\n",
        "    scoring='accuracy',\n",
        "    cv=15\n",
        ")\n",
        "\n",
        "svm_grid = GridSearchCV(\n",
        "    estimator=SVC(),\n",
        "    param_grid=svm_params,\n",
        "    scoring='accuracy',\n",
        "    cv=15\n",
        ")\n",
        "\n",
        "logistic_regression_grid.fit(X_train, y_train)\n",
        "svm_grid.fit(X_train, y_train)\n",
        "\n",
        "best_logistic_regression = logistic_regression_grid.best_estimator_\n",
        "best_svm = svm_grid.best_estimator_"
      ],
      "metadata": {
        "id": "4OENAkUVrjXL"
      },
      "execution_count": 14,
      "outputs": []
    },
    {
      "cell_type": "code",
      "source": [
        "print(\"Best Logistic Regression Hyperparameters:\")\n",
        "print(logistic_regression_grid.best_params_)\n",
        "print(\"Best Logistic Regression Accuracy Score:\", logistic_regression_grid.best_score_)\n",
        "\n",
        "print(\"\\nBest SVM Hyperparameters:\")\n",
        "print(svm_grid.best_params_)\n",
        "print(\"Best SVM Accuracy Score:\", svm_grid.best_score_)"
      ],
      "metadata": {
        "colab": {
          "base_uri": "https://localhost:8080/"
        },
        "id": "W_PXUqtJr8xC",
        "outputId": "69a67713-d3f8-4400-98f7-c0527e50cd6a"
      },
      "execution_count": 15,
      "outputs": [
        {
          "output_type": "stream",
          "name": "stdout",
          "text": [
            "Best Logistic Regression Hyperparameters:\n",
            "{'C': 0.1, 'max_iter': 1000}\n",
            "Best Logistic Regression Accuracy Score: 0.9458333333333333\n",
            "\n",
            "Best SVM Hyperparameters:\n",
            "{'C': 10, 'kernel': 'rbf'}\n",
            "Best SVM Accuracy Score: 0.94375\n"
          ]
        }
      ]
    },
    {
      "cell_type": "code",
      "source": [
        "best_logistic_regression.fit(X_train, y_train)\n",
        "y_pred = best_logistic_regression.predict(X_test)"
      ],
      "metadata": {
        "id": "HuarQDtAsntL"
      },
      "execution_count": 16,
      "outputs": []
    },
    {
      "cell_type": "code",
      "source": [
        "conf_matrix2 = confusion_matrix(y_test, y_pred)\n",
        "print(\"Confusion Matrix:\")\n",
        "print(conf_matrix2)\n",
        "\n",
        "class_report2 = classification_report(y_test, y_pred)\n",
        "print(\"\\nClassification Report:\")\n",
        "print(class_report2)"
      ],
      "metadata": {
        "colab": {
          "base_uri": "https://localhost:8080/"
        },
        "id": "nwQa9f_Ds_W6",
        "outputId": "c140be88-f11b-4d33-90a7-9c0b2ca5aa78"
      },
      "execution_count": 17,
      "outputs": [
        {
          "output_type": "stream",
          "name": "stdout",
          "text": [
            "Confusion Matrix:\n",
            "[[61  1]\n",
            " [ 4 54]]\n",
            "\n",
            "Classification Report:\n",
            "              precision    recall  f1-score   support\n",
            "\n",
            "           0       0.94      0.98      0.96        62\n",
            "           1       0.98      0.93      0.96        58\n",
            "\n",
            "    accuracy                           0.96       120\n",
            "   macro avg       0.96      0.96      0.96       120\n",
            "weighted avg       0.96      0.96      0.96       120\n",
            "\n"
          ]
        }
      ]
    },
    {
      "cell_type": "code",
      "source": [
        "best_svm.fit(X_train, y_train)\n",
        "y_pred_svm = best_svm.predict(X_test)"
      ],
      "metadata": {
        "id": "krkbXyqNs5LS"
      },
      "execution_count": 18,
      "outputs": []
    },
    {
      "cell_type": "code",
      "source": [
        "conf_matrix_svm2 = confusion_matrix(y_test, y_pred_svm)\n",
        "print(\"SVM Confusion Matrix:\")\n",
        "print(conf_matrix_svm2)\n",
        "\n",
        "class_report_svm2 = classification_report(y_test, y_pred_svm)\n",
        "print(\"\\nSVM Classification Report:\")\n",
        "print(class_report_svm2)"
      ],
      "metadata": {
        "colab": {
          "base_uri": "https://localhost:8080/"
        },
        "id": "iIuAF3mqs7t6",
        "outputId": "52517f36-41b1-4ea0-8a8c-5a89b5c9dfef"
      },
      "execution_count": 19,
      "outputs": [
        {
          "output_type": "stream",
          "name": "stdout",
          "text": [
            "SVM Confusion Matrix:\n",
            "[[61  1]\n",
            " [ 4 54]]\n",
            "\n",
            "SVM Classification Report:\n",
            "              precision    recall  f1-score   support\n",
            "\n",
            "           0       0.94      0.98      0.96        62\n",
            "           1       0.98      0.93      0.96        58\n",
            "\n",
            "    accuracy                           0.96       120\n",
            "   macro avg       0.96      0.96      0.96       120\n",
            "weighted avg       0.96      0.96      0.96       120\n",
            "\n"
          ]
        }
      ]
    },
    {
      "cell_type": "markdown",
      "source": [
        "General report of overall performance"
      ],
      "metadata": {
        "id": "XWpy6RA9zeJP"
      }
    },
    {
      "cell_type": "code",
      "source": [
        "print(\"SVM Confusion Matrix before hyperparameter tuning :\")\n",
        "print(conf_matrix_svm1)\n",
        "\n",
        "print(\"SVM Confusion Matrix after hyperparameter tuning :\")\n",
        "print(conf_matrix_svm2)"
      ],
      "metadata": {
        "colab": {
          "base_uri": "https://localhost:8080/"
        },
        "id": "YEwiY3r0uDzK",
        "outputId": "cf300eb4-bb82-4f08-9b99-34db10905db2"
      },
      "execution_count": 20,
      "outputs": [
        {
          "output_type": "stream",
          "name": "stdout",
          "text": [
            "SVM Confusion Matrix before hyperparameter tuning :\n",
            "[[62  0]\n",
            " [ 6 52]]\n",
            "SVM Confusion Matrix after hyperparameter tuning :\n",
            "[[61  1]\n",
            " [ 4 54]]\n"
          ]
        }
      ]
    },
    {
      "cell_type": "code",
      "source": [
        "print(\"Confusion Matrix before hyperparameter tuning :\")\n",
        "print(conf_matrix1)\n",
        "\n",
        "print(\"Confusion Matrix after hyperparameter tuning:\")\n",
        "print(conf_matrix2)"
      ],
      "metadata": {
        "colab": {
          "base_uri": "https://localhost:8080/"
        },
        "id": "uzPOoUUHzN7_",
        "outputId": "d767452f-b81b-45fb-d7b2-c668ef0680e3"
      },
      "execution_count": 21,
      "outputs": [
        {
          "output_type": "stream",
          "name": "stdout",
          "text": [
            "Confusion Matrix before hyperparameter tuning :\n",
            "[[59  3]\n",
            " [ 4 54]]\n",
            "Confusion Matrix after hyperparameter tuning:\n",
            "[[61  1]\n",
            " [ 4 54]]\n"
          ]
        }
      ]
    },
    {
      "cell_type": "code",
      "source": [],
      "metadata": {
        "id": "DICQaGOIzYDO"
      },
      "execution_count": null,
      "outputs": []
    }
  ]
}